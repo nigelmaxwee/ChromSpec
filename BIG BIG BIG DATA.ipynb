{
 "cells": [
  {
   "cell_type": "markdown",
   "id": "58a474dd",
   "metadata": {},
   "source": [
    "# Code is split into 2 main parts \n",
    "# 1. Data Science (preprocessing and feature engineering)\n",
    "# 2. Artificial Intellegience (modelling using logistic regression and CNN*)\n",
    "*requires more computing resources"
   ]
  },
  {
   "cell_type": "markdown",
   "id": "11cc3d56",
   "metadata": {},
   "source": [
    "# INPUT FILES: mzml format files in their separated compound folders\n",
    "# - mzml files were converted from D files, using msconvert application, which were directly extracted from GCMS 4's masshunter application."
   ]
  },
  {
   "cell_type": "code",
   "execution_count": 4,
   "id": "40bcb373",
   "metadata": {},
   "outputs": [],
   "source": [
    "import pyteomics\n",
    "import pandas as pd\n",
    "import time\n",
    "from pyteomics import mzml\n",
    "import itertools\n",
    "from pathlib import Path\n",
    "from pprint import pprint\n",
    "import os\n",
    "import shutil\n",
    "import random\n",
    "import re\n",
    "\n",
    "from matplotlib import pyplot as plt, cm\n",
    "import numpy as np\n",
    "from pandas_path import path\n",
    "from PIL import Image\n",
    "from sklearn.dummy import DummyClassifier\n",
    "from sklearn.preprocessing import minmax_scale\n",
    "from sklearn.linear_model import LogisticRegression, LogisticRegressionCV\n",
    "from sklearn.metrics import make_scorer, log_loss\n",
    "from sklearn.model_selection import StratifiedKFold, cross_val_score\n",
    "from tqdm import tqdm\n",
    "\n",
    "RANDOM_SEED = 42  # For reproducibility\n",
    "tqdm.pandas()"
   ]
  },
  {
   "cell_type": "markdown",
   "id": "203cfa36",
   "metadata": {},
   "source": [
    "# Start of preprocessing "
   ]
  },
  {
   "cell_type": "code",
   "execution_count": 5,
   "id": "7aa65da8",
   "metadata": {},
   "outputs": [],
   "source": [
    "# Get the mzml directory\n",
    "data_directory = os.path.join(os.getcwd(), 'data')\n",
    "mzml_directory = os.path.join(data_directory, 'MZML Data', 'BHT')"
   ]
  },
  {
   "cell_type": "markdown",
   "id": "49386287",
   "metadata": {},
   "source": [
    "# Mentioned further down as well, online literature normalises against the entire sample run\n",
    "Code in specific: 'normalised intensity': intensity/max(intensity_values)\n"
   ]
  },
  {
   "cell_type": "code",
   "execution_count": 6,
   "id": "93566dbc",
   "metadata": {},
   "outputs": [
    {
     "name": "stdout",
     "output_type": "stream",
     "text": [
      "Iteration 1: Processed BHT 1.mzML in 51.23 seconds and saved the cleaned data in BHT 1_cleaned.xlsx.\n",
      "Iteration 2: Processed BHT 10.mzML in 52.32 seconds and saved the cleaned data in BHT 10_cleaned.xlsx.\n",
      "Iteration 3: Processed BHT 11.mzML in 54.85 seconds and saved the cleaned data in BHT 11_cleaned.xlsx.\n",
      "Iteration 4: Processed BHT 12 .mzML in 42.67 seconds and saved the cleaned data in BHT 12 _cleaned.xlsx.\n",
      "Iteration 5: Processed BHT 13.mzML in 29.60 seconds and saved the cleaned data in BHT 13_cleaned.xlsx.\n",
      "Iteration 6: Processed BHT 14.mzML in 24.06 seconds and saved the cleaned data in BHT 14_cleaned.xlsx.\n",
      "Iteration 7: Processed BHT 15.mzML in 27.15 seconds and saved the cleaned data in BHT 15_cleaned.xlsx.\n",
      "Iteration 8: Processed BHT 16.mzML in 25.24 seconds and saved the cleaned data in BHT 16_cleaned.xlsx.\n",
      "Iteration 9: Processed BHT 17.mzML in 27.08 seconds and saved the cleaned data in BHT 17_cleaned.xlsx.\n",
      "Iteration 10: Processed BHT 18.mzML in 21.19 seconds and saved the cleaned data in BHT 18_cleaned.xlsx.\n",
      "Iteration 11: Processed BHT 19.mzML in 27.02 seconds and saved the cleaned data in BHT 19_cleaned.xlsx.\n",
      "Iteration 12: Processed BHT 2.mzML in 41.86 seconds and saved the cleaned data in BHT 2_cleaned.xlsx.\n",
      "Iteration 13: Processed BHT 20.mzML in 28.22 seconds and saved the cleaned data in BHT 20_cleaned.xlsx.\n",
      "Iteration 14: Processed BHT 21.mzML in 25.28 seconds and saved the cleaned data in BHT 21_cleaned.xlsx.\n",
      "Iteration 15: Processed BHT 22.mzML in 23.26 seconds and saved the cleaned data in BHT 22_cleaned.xlsx.\n",
      "Iteration 16: Processed BHT 23.mzML in 21.65 seconds and saved the cleaned data in BHT 23_cleaned.xlsx.\n",
      "Iteration 17: Processed BHT 24.mzML in 30.80 seconds and saved the cleaned data in BHT 24_cleaned.xlsx.\n",
      "Iteration 18: Processed BHT 25.mzML in 15.63 seconds and saved the cleaned data in BHT 25_cleaned.xlsx.\n",
      "Iteration 19: Processed BHT 26.mzML in 22.82 seconds and saved the cleaned data in BHT 26_cleaned.xlsx.\n",
      "Iteration 20: Processed BHT 27.mzML in 21.96 seconds and saved the cleaned data in BHT 27_cleaned.xlsx.\n",
      "Iteration 21: Processed BHT 28.mzML in 14.04 seconds and saved the cleaned data in BHT 28_cleaned.xlsx.\n",
      "Iteration 22: Processed BHT 29.mzML in 13.33 seconds and saved the cleaned data in BHT 29_cleaned.xlsx.\n",
      "Iteration 23: Processed BHT 3.mzML in 45.17 seconds and saved the cleaned data in BHT 3_cleaned.xlsx.\n",
      "Iteration 24: Processed BHT 30.mzML in 10.94 seconds and saved the cleaned data in BHT 30_cleaned.xlsx.\n",
      "Iteration 25: Processed BHT 31.mzML in 30.58 seconds and saved the cleaned data in BHT 31_cleaned.xlsx.\n",
      "Iteration 26: Processed BHT 32.mzML in 31.85 seconds and saved the cleaned data in BHT 32_cleaned.xlsx.\n",
      "Iteration 27: Processed BHT 33.mzML in 28.71 seconds and saved the cleaned data in BHT 33_cleaned.xlsx.\n",
      "Iteration 28: Processed BHT 34.mzML in 29.45 seconds and saved the cleaned data in BHT 34_cleaned.xlsx.\n",
      "Iteration 29: Processed BHT 35.mzML in 22.46 seconds and saved the cleaned data in BHT 35_cleaned.xlsx.\n",
      "Iteration 30: Processed BHT 36.mzML in 34.71 seconds and saved the cleaned data in BHT 36_cleaned.xlsx.\n",
      "Iteration 31: Processed BHT 37.mzML in 23.64 seconds and saved the cleaned data in BHT 37_cleaned.xlsx.\n",
      "Iteration 32: Processed BHT 38.mzML in 20.31 seconds and saved the cleaned data in BHT 38_cleaned.xlsx.\n",
      "Iteration 33: Processed BHT 39.mzML in 35.54 seconds and saved the cleaned data in BHT 39_cleaned.xlsx.\n",
      "Iteration 34: Processed BHT 4.mzML in 59.12 seconds and saved the cleaned data in BHT 4_cleaned.xlsx.\n",
      "Iteration 35: Processed BHT 40.mzML in 47.21 seconds and saved the cleaned data in BHT 40_cleaned.xlsx.\n",
      "Iteration 36: Processed BHT 41.mzML in 27.22 seconds and saved the cleaned data in BHT 41_cleaned.xlsx.\n",
      "Iteration 37: Processed BHT 42.mzML in 26.74 seconds and saved the cleaned data in BHT 42_cleaned.xlsx.\n",
      "Iteration 38: Processed BHT 43.mzML in 48.55 seconds and saved the cleaned data in BHT 43_cleaned.xlsx.\n",
      "Iteration 39: Processed BHT 44.mzML in 41.04 seconds and saved the cleaned data in BHT 44_cleaned.xlsx.\n",
      "Iteration 40: Processed BHT 45.mzML in 38.52 seconds and saved the cleaned data in BHT 45_cleaned.xlsx.\n",
      "Iteration 41: Processed BHT 46.mzML in 36.50 seconds and saved the cleaned data in BHT 46_cleaned.xlsx.\n",
      "Iteration 42: Processed BHT 5.mzML in 55.74 seconds and saved the cleaned data in BHT 5_cleaned.xlsx.\n",
      "Iteration 43: Processed BHT 6.mzML in 102.67 seconds and saved the cleaned data in BHT 6_cleaned.xlsx.\n",
      "Iteration 44: Processed BHT 7.mzML in 87.82 seconds and saved the cleaned data in BHT 7_cleaned.xlsx.\n",
      "Iteration 45: Processed BHT 8.mzML in 90.96 seconds and saved the cleaned data in BHT 8_cleaned.xlsx.\n",
      "Iteration 46: Processed BHT 9.mzML in 117.88 seconds and saved the cleaned data in BHT 9_cleaned.xlsx.\n",
      "\n",
      "Total iterations: 46\n",
      "Total execution time: 1734.58 seconds.\n"
     ]
    }
   ],
   "source": [
    "# Initialize variables for tracking iterations and total execution time\n",
    "iteration_count = 0\n",
    "total_execution_time = 0\n",
    "\n",
    "# Iterate through all files in the mzml directory\n",
    "for file in os.listdir(mzml_directory):\n",
    "    if file.endswith(\".mzML\"):\n",
    "        # Load the mzML file\n",
    "        mzml_file = os.path.join(mzml_directory, file)\n",
    "\n",
    "        # Start the timer\n",
    "        start_time = time.time()\n",
    "\n",
    "        # Create a list to store dictionaries representing rows in the DataFrame\n",
    "        rows = []\n",
    "\n",
    "        with mzml.read(mzml_file) as reader:\n",
    "            scan_number = 1\n",
    "            for spectrum in reader:\n",
    "                mz_values = spectrum['m/z array']\n",
    "                intensity_values = spectrum['intensity array']\n",
    "                scan_time = spectrum['scanList']['scan'][0]['scan start time']\n",
    "                tic = spectrum['total ion current']\n",
    "\n",
    "                # Iterate over the mz_values and intensity_values lists\n",
    "                for mz, intensity in zip(mz_values, intensity_values):\n",
    "                    # Create a dictionary representing a row in the DataFrame\n",
    "                    row = {'scan number': scan_number, 'scan time': scan_time, 'total ion current': tic, \n",
    "                           'm/z': mz, 'intensity': intensity, 'normalised intensity': intensity/max(intensity_values), \n",
    "                          'rounded m/z': round(mz)} \n",
    "                    rows.append(row)\n",
    "\n",
    "                scan_number += 1\n",
    "        # Create DataFrame from the list of dictionaries\n",
    "        df_extracted = pd.DataFrame(rows)\n",
    "\n",
    "        # Save the extracted DataFrame as an Excel file with a unique name\n",
    "        cleaned_data_file = os.path.splitext(file)[0] + \"_cleaned.xlsx\"\n",
    "        cleaned_data_path = os.path.join(mzml_directory, cleaned_data_file)\n",
    "        df_extracted.to_excel(cleaned_data_path, index=True)\n",
    "\n",
    "        # Calculate the iteration execution time\n",
    "        iteration_time = time.time() - start_time\n",
    "\n",
    "        # Update iteration count and total execution time\n",
    "        iteration_count += 1\n",
    "        total_execution_time += iteration_time\n",
    "\n",
    "        print(f\"Iteration {iteration_count}: Processed {file} in {iteration_time:.2f} seconds and saved the cleaned data in {cleaned_data_file}.\")\n",
    "\n",
    "# Print the final summary\n",
    "print(f\"\\nTotal iterations: {iteration_count}\")\n",
    "print(f\"Total execution time: {total_execution_time:.2f} seconds.\")"
   ]
  },
  {
   "cell_type": "markdown",
   "id": "21e911ea",
   "metadata": {},
   "source": [
    "# Repeat for all samples by changing the file name"
   ]
  },
  {
   "cell_type": "code",
   "execution_count": 32,
   "id": "393149be",
   "metadata": {
    "scrolled": true
   },
   "outputs": [
    {
     "name": "stdout",
     "output_type": "stream",
     "text": [
      "File 'DBEEA & BHT Mixture 1_cleaned.xlsx' copied to 'sample_000294.xlsx'\n",
      "File 'DBEEA & BHT Mixture 2_cleaned.xlsx' copied to 'sample_000295.xlsx'\n",
      "File 'DBEEA & BHT Mixture 3_cleaned.xlsx' copied to 'sample_000296.xlsx'\n",
      "File 'DBEEA & BHT Mixture 4_cleaned.xlsx' copied to 'sample_000297.xlsx'\n",
      "File 'DBEEA & BHT Mixture 5_cleaned.xlsx' copied to 'sample_000298.xlsx'\n",
      "Created files:\n",
      "sample_000294.xlsx\n",
      "sample_000295.xlsx\n",
      "sample_000296.xlsx\n",
      "sample_000297.xlsx\n",
      "sample_000298.xlsx\n"
     ]
    }
   ],
   "source": [
    "# Define the source and destination folders\n",
    "source_folder = os.path.join(data_directory, 'MZML DATA', 'DBEEA&BHT')\n",
    "destination_folder = os.path.join(data_directory, 'all_features')\n",
    "\n",
    "# Create the \"master list\" folder if it doesn't exist\n",
    "os.makedirs(destination_folder, exist_ok=True)\n",
    "\n",
    "# Get the list of Excel files in the source folder\n",
    "excel_files = [file for file in os.listdir(source_folder) if file.endswith('.xlsx')]\n",
    "\n",
    "# Determine the starting sample number\n",
    "if excel_files:\n",
    "    last_sample_number = 0\n",
    "    for file in excel_files:\n",
    "        try:\n",
    "            sample_number = int(file.split('_')[-1].split('.')[0])\n",
    "            if sample_number > last_sample_number:\n",
    "                last_sample_number = sample_number\n",
    "        except ValueError:\n",
    "            continue\n",
    "    start_sample_number = last_sample_number + 1\n",
    "else:\n",
    "    start_sample_number = 1\n",
    "\n",
    "# List to store the names of created files\n",
    "created_files = []\n",
    "\n",
    "# Iterate over the Excel files and copy them to the destination folder\n",
    "for file in excel_files:\n",
    "    source_path = os.path.join(source_folder, file)\n",
    "    destination_name = ''\n",
    "    while True:\n",
    "        destination_name = f'sample_{start_sample_number:06}.xlsx'\n",
    "        destination_path = os.path.join(destination_folder, destination_name)\n",
    "\n",
    "        # Check if the destination file already exists\n",
    "        if not os.path.exists(destination_path):\n",
    "            break\n",
    "\n",
    "        start_sample_number += 1\n",
    "\n",
    "    shutil.copyfile(source_path, destination_path)\n",
    "    created_files.append(destination_name)  # Append the created file name to the list\n",
    "    print(f\"File '{file}' copied to '{destination_name}'\")\n",
    "    start_sample_number += 1\n",
    "\n",
    "print(\"Created files:\")\n",
    "for file_name in created_files:\n",
    "    print(file_name)"
   ]
  },
  {
   "cell_type": "code",
   "execution_count": 33,
   "id": "aa957180",
   "metadata": {},
   "outputs": [
    {
     "name": "stdout",
     "output_type": "stream",
     "text": [
      "What compound is present in the samples? DBEEA\n",
      "Are there any other compounds present? (Y/N) y\n",
      "What compound is present in the samples? BHT\n",
      "Are there any other compounds present? (Y/N) n\n",
      "Compounds present in the samples:\n",
      "DBEEA\n",
      "BHT\n"
     ]
    }
   ],
   "source": [
    "compounds = []\n",
    "\n",
    "while True:\n",
    "    compound = input(\"What compound is present in the samples? \")\n",
    "\n",
    "    # Check if the input contains only letters and spaces\n",
    "    if re.match(r'^[a-zA-Z\\s]+$', compound):\n",
    "        compounds.append(compound)\n",
    "    else:\n",
    "        print(\"Invalid input. Please enter a compound name containing only letters and spaces.\")\n",
    "\n",
    "    # Ask if there are any other compounds present\n",
    "    response = input(\"Are there any other compounds present? (Y/N) \")\n",
    "    if response.upper() == 'N':\n",
    "        break  # Exit the loop if no more compounds are present\n",
    "\n",
    "# Print the list of compounds\n",
    "print(\"Compounds present in the samples:\")\n",
    "for compound in compounds:\n",
    "    print(compound)\n"
   ]
  },
  {
   "cell_type": "code",
   "execution_count": 34,
   "id": "42b65f44",
   "metadata": {
    "scrolled": true
   },
   "outputs": [
    {
     "data": {
      "text/html": [
       "<div>\n",
       "<style scoped>\n",
       "    .dataframe tbody tr th:only-of-type {\n",
       "        vertical-align: middle;\n",
       "    }\n",
       "\n",
       "    .dataframe tbody tr th {\n",
       "        vertical-align: top;\n",
       "    }\n",
       "\n",
       "    .dataframe thead th {\n",
       "        text-align: right;\n",
       "    }\n",
       "</style>\n",
       "<table border=\"1\" class=\"dataframe\">\n",
       "  <thead>\n",
       "    <tr style=\"text-align: right;\">\n",
       "      <th></th>\n",
       "      <th>sample id</th>\n",
       "      <th>BHT</th>\n",
       "      <th>DBEEA</th>\n",
       "      <th>DCM</th>\n",
       "      <th>MeOH</th>\n",
       "    </tr>\n",
       "  </thead>\n",
       "  <tbody>\n",
       "    <tr>\n",
       "      <th>0</th>\n",
       "      <td>sample_000001</td>\n",
       "      <td>1.0</td>\n",
       "      <td>0.0</td>\n",
       "      <td>0.0</td>\n",
       "      <td>0.0</td>\n",
       "    </tr>\n",
       "    <tr>\n",
       "      <th>1</th>\n",
       "      <td>sample_000002</td>\n",
       "      <td>1.0</td>\n",
       "      <td>0.0</td>\n",
       "      <td>0.0</td>\n",
       "      <td>0.0</td>\n",
       "    </tr>\n",
       "    <tr>\n",
       "      <th>2</th>\n",
       "      <td>sample_000003</td>\n",
       "      <td>1.0</td>\n",
       "      <td>0.0</td>\n",
       "      <td>0.0</td>\n",
       "      <td>0.0</td>\n",
       "    </tr>\n",
       "    <tr>\n",
       "      <th>3</th>\n",
       "      <td>sample_000004</td>\n",
       "      <td>1.0</td>\n",
       "      <td>0.0</td>\n",
       "      <td>0.0</td>\n",
       "      <td>0.0</td>\n",
       "    </tr>\n",
       "    <tr>\n",
       "      <th>4</th>\n",
       "      <td>sample_000005</td>\n",
       "      <td>1.0</td>\n",
       "      <td>0.0</td>\n",
       "      <td>0.0</td>\n",
       "      <td>0.0</td>\n",
       "    </tr>\n",
       "  </tbody>\n",
       "</table>\n",
       "</div>"
      ],
      "text/plain": [
       "       sample id  BHT  DBEEA  DCM  MeOH\n",
       "0  sample_000001  1.0    0.0  0.0   0.0\n",
       "1  sample_000002  1.0    0.0  0.0   0.0\n",
       "2  sample_000003  1.0    0.0  0.0   0.0\n",
       "3  sample_000004  1.0    0.0  0.0   0.0\n",
       "4  sample_000005  1.0    0.0  0.0   0.0"
      ]
     },
     "execution_count": 34,
     "metadata": {},
     "output_type": "execute_result"
    }
   ],
   "source": [
    "file_path = os.path.join(data_directory, 'all_labels.csv')\n",
    "\n",
    "# Remove \".xlsx\" from the elements in created_files\n",
    "created_files = [file.replace('.xlsx', '') for file in created_files]\n",
    "\n",
    "# Check if all_labels.csv already exists in the current directory\n",
    "if 'all_labels.csv' not in os.listdir(data_directory):\n",
    "    # Create all_labels DataFrame with \"sample id\"\n",
    "    all_labels = pd.DataFrame({'sample id': created_files})\n",
    "\n",
    "else:\n",
    "    # Load all_labels DataFrame from the existing CSV file\n",
    "    all_labels = pd.read_csv(file_path)    \n",
    "\n",
    "    # Create a DataFrame from the created_files list\n",
    "    df_new = pd.DataFrame({'sample id': created_files})\n",
    "\n",
    "    # Concatenate all_labels and df_new to add the new rows\n",
    "    all_labels = pd.concat([all_labels, df_new], ignore_index=True)\n",
    "\n",
    "# Save all_labels DataFrame to all_labels.csv\n",
    "all_labels.to_csv(file_path, index=False)\n",
    "all_labels.head()"
   ]
  },
  {
   "cell_type": "code",
   "execution_count": 35,
   "id": "c0680111",
   "metadata": {},
   "outputs": [
    {
     "name": "stdout",
     "output_type": "stream",
     "text": [
      "Compound 'DBEEA' already exists in the labels.\n",
      "Compound 'BHT' already exists in the labels.\n"
     ]
    },
    {
     "data": {
      "text/html": [
       "<div>\n",
       "<style scoped>\n",
       "    .dataframe tbody tr th:only-of-type {\n",
       "        vertical-align: middle;\n",
       "    }\n",
       "\n",
       "    .dataframe tbody tr th {\n",
       "        vertical-align: top;\n",
       "    }\n",
       "\n",
       "    .dataframe thead th {\n",
       "        text-align: right;\n",
       "    }\n",
       "</style>\n",
       "<table border=\"1\" class=\"dataframe\">\n",
       "  <thead>\n",
       "    <tr style=\"text-align: right;\">\n",
       "      <th></th>\n",
       "      <th>sample id</th>\n",
       "      <th>BHT</th>\n",
       "      <th>DBEEA</th>\n",
       "      <th>DCM</th>\n",
       "      <th>MeOH</th>\n",
       "    </tr>\n",
       "  </thead>\n",
       "  <tbody>\n",
       "    <tr>\n",
       "      <th>0</th>\n",
       "      <td>sample_000001</td>\n",
       "      <td>1.0</td>\n",
       "      <td>0.0</td>\n",
       "      <td>0.0</td>\n",
       "      <td>0.0</td>\n",
       "    </tr>\n",
       "    <tr>\n",
       "      <th>1</th>\n",
       "      <td>sample_000002</td>\n",
       "      <td>1.0</td>\n",
       "      <td>0.0</td>\n",
       "      <td>0.0</td>\n",
       "      <td>0.0</td>\n",
       "    </tr>\n",
       "    <tr>\n",
       "      <th>2</th>\n",
       "      <td>sample_000003</td>\n",
       "      <td>1.0</td>\n",
       "      <td>0.0</td>\n",
       "      <td>0.0</td>\n",
       "      <td>0.0</td>\n",
       "    </tr>\n",
       "    <tr>\n",
       "      <th>3</th>\n",
       "      <td>sample_000004</td>\n",
       "      <td>1.0</td>\n",
       "      <td>0.0</td>\n",
       "      <td>0.0</td>\n",
       "      <td>0.0</td>\n",
       "    </tr>\n",
       "    <tr>\n",
       "      <th>4</th>\n",
       "      <td>sample_000005</td>\n",
       "      <td>1.0</td>\n",
       "      <td>0.0</td>\n",
       "      <td>0.0</td>\n",
       "      <td>0.0</td>\n",
       "    </tr>\n",
       "  </tbody>\n",
       "</table>\n",
       "</div>"
      ],
      "text/plain": [
       "       sample id  BHT  DBEEA  DCM  MeOH\n",
       "0  sample_000001  1.0    0.0  0.0   0.0\n",
       "1  sample_000002  1.0    0.0  0.0   0.0\n",
       "2  sample_000003  1.0    0.0  0.0   0.0\n",
       "3  sample_000004  1.0    0.0  0.0   0.0\n",
       "4  sample_000005  1.0    0.0  0.0   0.0"
      ]
     },
     "execution_count": 35,
     "metadata": {},
     "output_type": "execute_result"
    }
   ],
   "source": [
    "# Check if compounds are already present in all_labels, starting from the second column\n",
    "for compound in compounds:\n",
    "    if compound not in all_labels.iloc[0, 1:]:\n",
    "        # If the compound is not present, create a new column with the compound name\n",
    "        all_labels[compound] = ''\n",
    "        print(f\"Compound '{compound}' added into the labels.\")\n",
    "    else:\n",
    "        print(f\"Compound '{compound}' already exists in the labels.\")\n",
    "        \n",
    "# Save all_labels DataFrame to all_labels.csv\n",
    "all_labels.to_csv(file_path, index=False)\n",
    "all_labels.head()"
   ]
  },
  {
   "cell_type": "code",
   "execution_count": 36,
   "id": "16040351",
   "metadata": {
    "scrolled": true
   },
   "outputs": [
    {
     "data": {
      "text/html": [
       "<div>\n",
       "<style scoped>\n",
       "    .dataframe tbody tr th:only-of-type {\n",
       "        vertical-align: middle;\n",
       "    }\n",
       "\n",
       "    .dataframe tbody tr th {\n",
       "        vertical-align: top;\n",
       "    }\n",
       "\n",
       "    .dataframe thead th {\n",
       "        text-align: right;\n",
       "    }\n",
       "</style>\n",
       "<table border=\"1\" class=\"dataframe\">\n",
       "  <thead>\n",
       "    <tr style=\"text-align: right;\">\n",
       "      <th></th>\n",
       "      <th>sample id</th>\n",
       "      <th>BHT</th>\n",
       "      <th>DBEEA</th>\n",
       "      <th>DCM</th>\n",
       "      <th>MeOH</th>\n",
       "    </tr>\n",
       "  </thead>\n",
       "  <tbody>\n",
       "    <tr>\n",
       "      <th>0</th>\n",
       "      <td>sample_000001</td>\n",
       "      <td>1.0</td>\n",
       "      <td>0.0</td>\n",
       "      <td>0.0</td>\n",
       "      <td>0.0</td>\n",
       "    </tr>\n",
       "    <tr>\n",
       "      <th>1</th>\n",
       "      <td>sample_000002</td>\n",
       "      <td>1.0</td>\n",
       "      <td>0.0</td>\n",
       "      <td>0.0</td>\n",
       "      <td>0.0</td>\n",
       "    </tr>\n",
       "    <tr>\n",
       "      <th>2</th>\n",
       "      <td>sample_000003</td>\n",
       "      <td>1.0</td>\n",
       "      <td>0.0</td>\n",
       "      <td>0.0</td>\n",
       "      <td>0.0</td>\n",
       "    </tr>\n",
       "    <tr>\n",
       "      <th>3</th>\n",
       "      <td>sample_000004</td>\n",
       "      <td>1.0</td>\n",
       "      <td>0.0</td>\n",
       "      <td>0.0</td>\n",
       "      <td>0.0</td>\n",
       "    </tr>\n",
       "    <tr>\n",
       "      <th>4</th>\n",
       "      <td>sample_000005</td>\n",
       "      <td>1.0</td>\n",
       "      <td>0.0</td>\n",
       "      <td>0.0</td>\n",
       "      <td>0.0</td>\n",
       "    </tr>\n",
       "  </tbody>\n",
       "</table>\n",
       "</div>"
      ],
      "text/plain": [
       "       sample id  BHT  DBEEA  DCM  MeOH\n",
       "0  sample_000001  1.0    0.0  0.0   0.0\n",
       "1  sample_000002  1.0    0.0  0.0   0.0\n",
       "2  sample_000003  1.0    0.0  0.0   0.0\n",
       "3  sample_000004  1.0    0.0  0.0   0.0\n",
       "4  sample_000005  1.0    0.0  0.0   0.0"
      ]
     },
     "execution_count": 36,
     "metadata": {},
     "output_type": "execute_result"
    }
   ],
   "source": [
    "# Iterate over the rows and columns to perform one-hot encoding\n",
    "for index, row in all_labels.iterrows():\n",
    "    if row['sample id'] in created_files:\n",
    "        # Set the compounds in created_files list to 1, others to 0\n",
    "        for compound in all_labels.columns[1:]:\n",
    "            if compound in compounds:\n",
    "                if compound in row:\n",
    "                    all_labels.loc[index, compound] = 1\n",
    "                else:\n",
    "                    all_labels.loc[index, compound] = 0\n",
    "            else:\n",
    "                all_labels.loc[index, compound] = 0\n",
    "    else:\n",
    "        # Set compounds to 0 for rows not in created_files list if not already 1\n",
    "        for compound in compounds:\n",
    "            if compound in all_labels.columns and all_labels.loc[index, compound] != 1:\n",
    "                all_labels.loc[index, compound] = 0\n",
    "\n",
    "# Save all_labels DataFrame to all_labels.csv\n",
    "all_labels.to_csv(file_path, index=False)\n",
    "all_labels.head()"
   ]
  },
  {
   "cell_type": "code",
   "execution_count": 37,
   "id": "8f6a47da",
   "metadata": {
    "scrolled": true
   },
   "outputs": [
    {
     "data": {
      "image/png": "[encoded data removed]",
      "text/plain": [
       "<Figure size 640x480 with 1 Axes>"
      ]
     },
     "metadata": {},
     "output_type": "display_data"
    }
   ],
   "source": [
    "# Create a new DataFrame with compound counts\n",
    "compound_counts = all_labels.iloc[:, 1:].sum().sort_values(ascending=True)\n",
    "\n",
    "# Plot the horizontal bar graph\n",
    "plt.barh(compound_counts.index, compound_counts.values)\n",
    "plt.xlabel('Count')\n",
    "plt.ylabel('Compounds')\n",
    "plt.title('Compounds represented in dataset')\n",
    "plt.show()\n"
   ]
  },
  {
   "cell_type": "markdown",
   "id": "fe18e21e",
   "metadata": {},
   "source": [
    "# Repeat for all samples by changing the file name"
   ]
  },
  {
   "cell_type": "code",
   "execution_count": 38,
   "id": "fc51d11d",
   "metadata": {},
   "outputs": [
    {
     "name": "stdout",
     "output_type": "stream",
     "text": [
      "Train/Test split completed successfully.\n"
     ]
    }
   ],
   "source": [
    "# Define the source folder (master list) and destination folders (train_features, test_features)\n",
    "source_folder = os.path.join(data_directory, \"all_features\")\n",
    "train_folder = os.path.join(data_directory, \"train_features\")\n",
    "test_folder = os.path.join(data_directory, \"test_features\")\n",
    "\n",
    "# Create the destination folders if they don't exist\n",
    "os.makedirs(train_folder, exist_ok=True)\n",
    "os.makedirs(test_folder, exist_ok=True)\n",
    "\n",
    "# Get the list of Excel files in the source folder\n",
    "excel_files = [file for file in os.listdir(source_folder) if file.endswith(\".xlsx\")]\n",
    "\n",
    "# Shuffle the list of files\n",
    "random.shuffle(excel_files)\n",
    "\n",
    "# Determine the split point for train/test\n",
    "split_point = int(len(excel_files) * 0.8)  # 80% for training, 20% for testing\n",
    "\n",
    "# Split the files into train and test\n",
    "train_files = excel_files[:split_point]\n",
    "test_files = excel_files[split_point:]\n",
    "\n",
    "# Move the train files to the train folder\n",
    "for file in train_files:\n",
    "    source_path = os.path.join(source_folder, file)\n",
    "    destination_path = os.path.join(train_folder, file)\n",
    "    shutil.copy(source_path, destination_path)\n",
    "\n",
    "# Move the test files to the test folder\n",
    "for file in test_files:\n",
    "    source_path = os.path.join(source_folder, file)\n",
    "    destination_path = os.path.join(test_folder, file)\n",
    "    shutil.copy(source_path, destination_path)\n",
    "\n",
    "print(\"Train/Test split completed successfully.\")"
   ]
  },
  {
   "cell_type": "code",
   "execution_count": 39,
   "id": "25885101",
   "metadata": {
    "scrolled": true
   },
   "outputs": [
    {
     "data": {
      "image/png": "[encoded data removed]",
      "text/plain": [
       "<Figure size 640x480 with 2 Axes>"
      ]
     },
     "metadata": {},
     "output_type": "display_data"
    }
   ],
   "source": [
    "# Read the all_labels.csv file\n",
    "all_labels = pd.read_csv(file_path , index_col=0)  # Assuming the first column is the sample id\n",
    "\n",
    "# Create a counter to store the occurrences of column headers for train and test\n",
    "train_column_occurrences = {}\n",
    "test_column_occurrences = {}\n",
    "\n",
    "# Function to count the occurrences of column headers\n",
    "def count_column_occurrences(file_name, column_occurrences):\n",
    "    # Check if the file name exists in all_labels\n",
    "    if file_name in all_labels.index:\n",
    "        # Get the columns with value 1 for the corresponding file\n",
    "        columns = all_labels.columns[all_labels.loc[file_name] == 1]\n",
    "\n",
    "        # Iterate over the columns and count the occurrences of column headers\n",
    "        for column in columns:\n",
    "            column_header = all_labels.columns[all_labels.loc[file_name] == 1][0]\n",
    "            if column_header in column_occurrences:\n",
    "                column_occurrences[column_header] += 1\n",
    "            else:\n",
    "                column_occurrences[column_header] = 1\n",
    "\n",
    "# Iterate over the files in the train folder\n",
    "for file in os.listdir(train_folder):\n",
    "    if file.endswith(\".xlsx\"):\n",
    "        # Remove the file extension\n",
    "        file_name = os.path.splitext(file)[0]\n",
    "        count_column_occurrences(file_name, train_column_occurrences)\n",
    "\n",
    "# Iterate over the files in the test folder\n",
    "for file in os.listdir(test_folder):\n",
    "    if file.endswith(\".xlsx\"):\n",
    "        # Remove the file extension\n",
    "        file_name = os.path.splitext(file)[0]\n",
    "        count_column_occurrences(file_name, test_column_occurrences)\n",
    "\n",
    "# Plot the horizontal bar chart for train\n",
    "plt.subplot(1, 2, 1)\n",
    "plt.barh(list(train_column_occurrences.keys()), list(train_column_occurrences.values()))\n",
    "plt.xlabel('Count')\n",
    "plt.ylabel('Compounds')\n",
    "plt.title('Compounds in Train dataset')\n",
    "\n",
    "# Plot the horizontal bar chart for test\n",
    "plt.subplot(1, 2, 2)\n",
    "plt.barh(list(test_column_occurrences.keys()), list(test_column_occurrences.values()))\n",
    "plt.xlabel('Count')\n",
    "plt.ylabel('Compounds')\n",
    "plt.title('Compounds in Test dataset')\n",
    "\n",
    "# Adjust the spacing between subplots\n",
    "plt.tight_layout()\n",
    "\n",
    "# Display the plots\n",
    "plt.show()"
   ]
  },
  {
   "cell_type": "code",
   "execution_count": 42,
   "id": "56b51781",
   "metadata": {
    "scrolled": true
   },
   "outputs": [],
   "source": [
    "# Get the list of files in the train_folder directory\n",
    "files = os.listdir(train_folder)\n",
    "\n",
    "# Extract file names without the extension and store them in file_names list\n",
    "file_names = [os.path.splitext(file)[0] for file in files]\n",
    "\n",
    "# Create the train_labels and test_labels DataFrame\n",
    "train_labels = pd.DataFrame(columns=all_labels.columns)\n",
    "test_labels = pd.DataFrame(columns=all_labels.columns)\n",
    "\n",
    "# Set the index header\n",
    "train_labels.index.name = \"sample id\"\n",
    "test_labels.index.name = \"sample id\"\n",
    "\n",
    "# Copy rows that match the values in file_names into train_labels\n",
    "train_labels = pd.concat([train_labels, all_labels.loc[file_names]], axis=0)\n",
    "\n",
    "# Copy rows that are not in file_names into test_labels\n",
    "test_labels = pd.concat([test_labels, all_labels.loc[~all_labels.index.isin(file_names)]], axis=0)\n",
    "\n",
    "# Define the file paths\n",
    "train_labels_path = os.path.join(data_directory, 'train_labels.csv')\n",
    "test_labels_path = os.path.join(data_directory, 'test_labels.csv')\n",
    "\n",
    "# Save train_labels in the data_directory folder\n",
    "train_labels.to_csv(train_labels_path)\n",
    "\n",
    "# Save test_labels in the data_directory folder\n",
    "test_labels.to_csv(test_labels_path)\n"
   ]
  },
  {
   "cell_type": "markdown",
   "id": "54874833",
   "metadata": {},
   "source": [
    "# Start of feature engineering"
   ]
  },
  {
   "cell_type": "code",
   "execution_count": 43,
   "id": "716fd861",
   "metadata": {},
   "outputs": [],
   "source": [
    "PROJ_ROOT = Path.cwd().parent\n",
    "DATA_PATH = PROJ_ROOT / \"MAIN CODE/data\""
   ]
  },
  {
   "cell_type": "code",
   "execution_count": 49,
   "id": "a3f53322",
   "metadata": {},
   "outputs": [
    {
     "data": {
      "text/html": [
       "<div>\n",
       "<style scoped>\n",
       "    .dataframe tbody tr th:only-of-type {\n",
       "        vertical-align: middle;\n",
       "    }\n",
       "\n",
       "    .dataframe tbody tr th {\n",
       "        vertical-align: top;\n",
       "    }\n",
       "\n",
       "    .dataframe thead th {\n",
       "        text-align: right;\n",
       "    }\n",
       "</style>\n",
       "<table border=\"1\" class=\"dataframe\">\n",
       "  <thead>\n",
       "    <tr style=\"text-align: right;\">\n",
       "      <th></th>\n",
       "      <th>BHT</th>\n",
       "      <th>DBEEA</th>\n",
       "      <th>DCM</th>\n",
       "      <th>MeOH</th>\n",
       "    </tr>\n",
       "    <tr>\n",
       "      <th>sample id</th>\n",
       "      <th></th>\n",
       "      <th></th>\n",
       "      <th></th>\n",
       "      <th></th>\n",
       "    </tr>\n",
       "  </thead>\n",
       "  <tbody>\n",
       "    <tr>\n",
       "      <th>sample_000001</th>\n",
       "      <td>1.0</td>\n",
       "      <td>0.0</td>\n",
       "      <td>0.0</td>\n",
       "      <td>0.0</td>\n",
       "    </tr>\n",
       "    <tr>\n",
       "      <th>sample_000002</th>\n",
       "      <td>1.0</td>\n",
       "      <td>0.0</td>\n",
       "      <td>0.0</td>\n",
       "      <td>0.0</td>\n",
       "    </tr>\n",
       "    <tr>\n",
       "      <th>sample_000003</th>\n",
       "      <td>1.0</td>\n",
       "      <td>0.0</td>\n",
       "      <td>0.0</td>\n",
       "      <td>0.0</td>\n",
       "    </tr>\n",
       "    <tr>\n",
       "      <th>sample_000004</th>\n",
       "      <td>1.0</td>\n",
       "      <td>0.0</td>\n",
       "      <td>0.0</td>\n",
       "      <td>0.0</td>\n",
       "    </tr>\n",
       "    <tr>\n",
       "      <th>sample_000005</th>\n",
       "      <td>1.0</td>\n",
       "      <td>0.0</td>\n",
       "      <td>0.0</td>\n",
       "      <td>0.0</td>\n",
       "    </tr>\n",
       "  </tbody>\n",
       "</table>\n",
       "</div>"
      ],
      "text/plain": [
       "               BHT  DBEEA  DCM  MeOH\n",
       "sample id                           \n",
       "sample_000001  1.0    0.0  0.0   0.0\n",
       "sample_000002  1.0    0.0  0.0   0.0\n",
       "sample_000003  1.0    0.0  0.0   0.0\n",
       "sample_000004  1.0    0.0  0.0   0.0\n",
       "sample_000005  1.0    0.0  0.0   0.0"
      ]
     },
     "execution_count": 49,
     "metadata": {},
     "output_type": "execute_result"
    }
   ],
   "source": [
    "metadata = pd.read_csv(DATA_PATH / \"all_labels.csv\", index_col=\"sample id\")\n",
    "metadata.head()"
   ]
  },
  {
   "cell_type": "code",
   "execution_count": 50,
   "id": "b0094119",
   "metadata": {},
   "outputs": [
    {
     "name": "stderr",
     "output_type": "stream",
     "text": [
      "Processing: 100%|████████████████████████████████████████████████████████████████████████| 5/5 [01:54<00:00, 22.95s/it]\n"
     ]
    }
   ],
   "source": [
    "sample_indices = [1, 47, 94, 191, 294] #these indices are specifically for the 5 unique combination of compounds\n",
    "sample_ids_ls = metadata.index[sample_indices].values\n",
    "\n",
    "# Import datasets for EDA (Exploratory Data Analysis)\n",
    "sample_data_dict = {}\n",
    "\n",
    "for sample_id in tqdm(sample_ids_ls, desc='Processing'):\n",
    "    sample_data_dict[sample_id] = pd.read_excel(DATA_PATH / 'all_features' / (sample_id + \".xlsx\"))"
   ]
  },
  {
   "cell_type": "code",
   "execution_count": 51,
   "id": "34e1503c",
   "metadata": {},
   "outputs": [],
   "source": [
    "def plot_spectrogram(sample_df, sample_lab):\n",
    "\n",
    "    # For visual clarity, we will round these intensity values to the nearest whole number and average the intensity.\n",
    "    sample_df[\"m/z\"] = sample_df[\"m/z\"].round()\n",
    "    sample_df = (\n",
    "        sample_df.groupby([\"scan time\", \"m/z\"])[\"intensity\"].aggregate(\"mean\").reset_index()\n",
    "    )\n",
    "\n",
    "    for m in sample_df[\"m/z\"].unique():\n",
    "        plt.plot(\n",
    "            sample_df[sample_df[\"m/z\"] == m][\"scan time\"],\n",
    "            sample_df[sample_df[\"m/z\"] == m][\"intensity\"],\n",
    "        )\n",
    "\n",
    "    plt.title(sample_lab)"
   ]
  },
  {
   "cell_type": "code",
   "execution_count": 52,
   "id": "7fe4934c",
   "metadata": {
    "scrolled": true
   },
   "outputs": [
    {
     "data": {
      "image/png": "[encoded data removed]",
      "text/plain": [
       "<Figure size 1500x300 with 5 Axes>"
      ]
     },
     "metadata": {},
     "output_type": "display_data"
    }
   ],
   "source": [
    "fig, ax = plt.subplots(1, 5, figsize=(15, 3), constrained_layout=True)\n",
    "fig.suptitle(\"Samples\")\n",
    "fig.supxlabel(\"Time\")\n",
    "fig.supylabel(\"Intensity\")\n",
    "\n",
    "for i in range(0, 5):\n",
    "    sample_lab = sample_ids_ls[i]\n",
    "    sample_df = sample_data_dict[sample_lab]\n",
    "\n",
    "    plt.subplot(1, 5, i + 1)\n",
    "    plot_spectrogram(sample_df, sample_lab)"
   ]
  },
  {
   "cell_type": "markdown",
   "id": "aa5e565d",
   "metadata": {},
   "source": [
    "# Finetuning of factors can be further explored\n",
    "# Smaller time bin -> Higher accuracy up to a certain extent(?), however more time will be needed to train the model. \n",
    "# Upper limit of 400 is set for the m/z as analytes of interest do not extend up to that range.\n",
    "# Hence size of data would include: \n",
    "# (35/0.25) time bins * 400 rounded m/z = 56000 feature rows per sample"
   ]
  },
  {
   "cell_type": "code",
   "execution_count": 53,
   "id": "29107f3f",
   "metadata": {},
   "outputs": [
    {
     "name": "stdout",
     "output_type": "stream",
     "text": [
      "            time bin  rounded m/z\n",
      "0        (0.0, 0.25]            1\n",
      "1        (0.0, 0.25]            2\n",
      "2        (0.0, 0.25]            3\n",
      "3        (0.0, 0.25]            4\n",
      "4        (0.0, 0.25]            5\n",
      "...              ...          ...\n",
      "55995  (34.75, 35.0]          396\n",
      "55996  (34.75, 35.0]          397\n",
      "55997  (34.75, 35.0]          398\n",
      "55998  (34.75, 35.0]          399\n",
      "55999  (34.75, 35.0]          400\n",
      "\n",
      "[56000 rows x 2 columns]\n"
     ]
    }
   ],
   "source": [
    "# Create a series of time bins\n",
    "timerange = pd.interval_range(start=0, end=35, freq=0.25)\n",
    "timerange\n",
    "\n",
    "# Make dataframe with rows that are combinations of all temperature bins and all m/z values\n",
    "allcombs = list(itertools.product(timerange, [*range(1, 401)]))\n",
    "\n",
    "allcombs_df = pd.DataFrame(allcombs, columns=[\"time bin\", \"rounded m/z\"])\n",
    "print(allcombs_df)"
   ]
  },
  {
   "cell_type": "markdown",
   "id": "0731dc0b",
   "metadata": {},
   "source": [
    "# Online literature normalises the abundance against the max in the entire sample run \n",
    "# This code normalises against the max in the same scan number\n",
    "# Possible change to be implemented here and in the preprocessing step at the start as mentioned previously"
   ]
  },
  {
   "cell_type": "code",
   "execution_count": 54,
   "id": "ec44e7ba",
   "metadata": {},
   "outputs": [],
   "source": [
    "def int_per_timebin(df):\n",
    "\n",
    "    \"\"\"\n",
    "    Transforms dataset to take the preprocessed max abundance for each\n",
    "    time range for each m/z value\n",
    "\n",
    "    Args:\n",
    "        df: dataframe to transform\n",
    "\n",
    "    Returns:\n",
    "        transformed dataframe\n",
    "    \"\"\"\n",
    "\n",
    "    # Bin times\n",
    "    df[\"time bin\"] = pd.cut(df[\"scan time\"], bins=timerange)\n",
    "\n",
    "    # Combine with a list of all time bin-m/z value combinations\n",
    "    df = pd.merge(allcombs_df, df, on=[\"time bin\", \"rounded m/z\"], how=\"left\")\n",
    "\n",
    "    # Aggregate to time bin level to find max\n",
    "    df = df.groupby([\"time bin\", \"rounded m/z\"]).max(\"normalised intensity\").reset_index()\n",
    "\n",
    "    # Fill in 0 for intensity values without information\n",
    "    df = df.replace(np.nan, 0)\n",
    "\n",
    "    # Reshape so each row is a single sample\n",
    "    df = df.pivot_table(\n",
    "        columns=[\"rounded m/z\", \"time bin\"], values=[\"normalised intensity\"]\n",
    "    )\n",
    "\n",
    "    return df"
   ]
  },
  {
   "cell_type": "code",
   "execution_count": 55,
   "id": "10548ea7",
   "metadata": {},
   "outputs": [],
   "source": [
    "file_dict = {file_name[:-5]: \"train_features\\\\\" + file_name for file_name in train_files}"
   ]
  },
  {
   "cell_type": "code",
   "execution_count": 56,
   "id": "ee23ef4d",
   "metadata": {},
   "outputs": [
    {
     "name": "stdout",
     "output_type": "stream",
     "text": [
      "Total number of train files:  238\n"
     ]
    },
    {
     "name": "stderr",
     "output_type": "stream",
     "text": [
      "100%|██████████████████████████████████████████████████████████████████████████████| 238/238 [1:27:47<00:00, 22.13s/it]\n"
     ]
    }
   ],
   "source": [
    "# Assembling preprocessed and transformed training set\n",
    "\n",
    "train_features_dict = {}\n",
    "print(\"Total number of train files: \", len(file_dict))\n",
    "\n",
    "for i, (sample_id, filepath) in enumerate(tqdm(file_dict.items())):\n",
    "    # Load training sample\n",
    "    temp = pd.read_excel(os.path.join(data_directory, filepath))\n",
    "\n",
    "    # Feature engineering\n",
    "    train_sample_fe = int_per_timebin(temp).reset_index(drop=True)\n",
    "    train_features_dict[sample_id] = train_sample_fe\n",
    "\n",
    "train_features = pd.concat(\n",
    "    train_features_dict, names=[\"sample id\", \"dummy index\"]\n",
    ").reset_index(level=\"dummy index\", drop=True)\n"
   ]
  },
  {
   "cell_type": "code",
   "execution_count": 164,
   "id": "115a137e",
   "metadata": {
    "scrolled": true
   },
   "outputs": [
    {
     "data": {
      "text/html": [
       "<div>\n",
       "<style scoped>\n",
       "    .dataframe tbody tr th:only-of-type {\n",
       "        vertical-align: middle;\n",
       "    }\n",
       "\n",
       "    .dataframe tbody tr th {\n",
       "        vertical-align: top;\n",
       "    }\n",
       "\n",
       "    .dataframe thead tr th {\n",
       "        text-align: left;\n",
       "    }\n",
       "\n",
       "    .dataframe thead tr:last-of-type th {\n",
       "        text-align: right;\n",
       "    }\n",
       "</style>\n",
       "<table border=\"1\" class=\"dataframe\">\n",
       "  <thead>\n",
       "    <tr>\n",
       "      <th>rounded m/z</th>\n",
       "      <th colspan=\"10\" halign=\"left\">1</th>\n",
       "      <th>...</th>\n",
       "      <th colspan=\"10\" halign=\"left\">400</th>\n",
       "    </tr>\n",
       "    <tr>\n",
       "      <th>time bin</th>\n",
       "      <th>(0.0, 0.25]</th>\n",
       "      <th>(0.25, 0.5]</th>\n",
       "      <th>(0.5, 0.75]</th>\n",
       "      <th>(0.75, 1.0]</th>\n",
       "      <th>(1.0, 1.25]</th>\n",
       "      <th>(1.25, 1.5]</th>\n",
       "      <th>(1.5, 1.75]</th>\n",
       "      <th>(1.75, 2.0]</th>\n",
       "      <th>(2.0, 2.25]</th>\n",
       "      <th>(2.25, 2.5]</th>\n",
       "      <th>...</th>\n",
       "      <th>(32.5, 32.75]</th>\n",
       "      <th>(32.75, 33.0]</th>\n",
       "      <th>(33.0, 33.25]</th>\n",
       "      <th>(33.25, 33.5]</th>\n",
       "      <th>(33.5, 33.75]</th>\n",
       "      <th>(33.75, 34.0]</th>\n",
       "      <th>(34.0, 34.25]</th>\n",
       "      <th>(34.25, 34.5]</th>\n",
       "      <th>(34.5, 34.75]</th>\n",
       "      <th>(34.75, 35.0]</th>\n",
       "    </tr>\n",
       "    <tr>\n",
       "      <th>sample id</th>\n",
       "      <th></th>\n",
       "      <th></th>\n",
       "      <th></th>\n",
       "      <th></th>\n",
       "      <th></th>\n",
       "      <th></th>\n",
       "      <th></th>\n",
       "      <th></th>\n",
       "      <th></th>\n",
       "      <th></th>\n",
       "      <th></th>\n",
       "      <th></th>\n",
       "      <th></th>\n",
       "      <th></th>\n",
       "      <th></th>\n",
       "      <th></th>\n",
       "      <th></th>\n",
       "      <th></th>\n",
       "      <th></th>\n",
       "      <th></th>\n",
       "      <th></th>\n",
       "    </tr>\n",
       "  </thead>\n",
       "  <tbody>\n",
       "    <tr>\n",
       "      <th>sample_000001</th>\n",
       "      <td>0.0</td>\n",
       "      <td>0.0</td>\n",
       "      <td>0.0</td>\n",
       "      <td>0.0</td>\n",
       "      <td>0.0</td>\n",
       "      <td>0.0</td>\n",
       "      <td>0.0</td>\n",
       "      <td>0.0</td>\n",
       "      <td>0.0</td>\n",
       "      <td>0.0</td>\n",
       "      <td>...</td>\n",
       "      <td>0.000000</td>\n",
       "      <td>0.0</td>\n",
       "      <td>0.0</td>\n",
       "      <td>0.0</td>\n",
       "      <td>0.0</td>\n",
       "      <td>0.0</td>\n",
       "      <td>0.0</td>\n",
       "      <td>0.0</td>\n",
       "      <td>0.0</td>\n",
       "      <td>0.0</td>\n",
       "    </tr>\n",
       "    <tr>\n",
       "      <th>sample_000002</th>\n",
       "      <td>0.0</td>\n",
       "      <td>0.0</td>\n",
       "      <td>0.0</td>\n",
       "      <td>0.0</td>\n",
       "      <td>0.0</td>\n",
       "      <td>0.0</td>\n",
       "      <td>0.0</td>\n",
       "      <td>0.0</td>\n",
       "      <td>0.0</td>\n",
       "      <td>0.0</td>\n",
       "      <td>...</td>\n",
       "      <td>0.003206</td>\n",
       "      <td>0.0</td>\n",
       "      <td>0.0</td>\n",
       "      <td>0.0</td>\n",
       "      <td>0.0</td>\n",
       "      <td>0.0</td>\n",
       "      <td>0.0</td>\n",
       "      <td>0.0</td>\n",
       "      <td>0.0</td>\n",
       "      <td>0.0</td>\n",
       "    </tr>\n",
       "    <tr>\n",
       "      <th>sample_000004</th>\n",
       "      <td>0.0</td>\n",
       "      <td>0.0</td>\n",
       "      <td>0.0</td>\n",
       "      <td>0.0</td>\n",
       "      <td>0.0</td>\n",
       "      <td>0.0</td>\n",
       "      <td>0.0</td>\n",
       "      <td>0.0</td>\n",
       "      <td>0.0</td>\n",
       "      <td>0.0</td>\n",
       "      <td>...</td>\n",
       "      <td>0.000000</td>\n",
       "      <td>0.0</td>\n",
       "      <td>0.0</td>\n",
       "      <td>0.0</td>\n",
       "      <td>0.0</td>\n",
       "      <td>0.0</td>\n",
       "      <td>0.0</td>\n",
       "      <td>0.0</td>\n",
       "      <td>0.0</td>\n",
       "      <td>0.0</td>\n",
       "    </tr>\n",
       "    <tr>\n",
       "      <th>sample_000005</th>\n",
       "      <td>0.0</td>\n",
       "      <td>0.0</td>\n",
       "      <td>0.0</td>\n",
       "      <td>0.0</td>\n",
       "      <td>0.0</td>\n",
       "      <td>0.0</td>\n",
       "      <td>0.0</td>\n",
       "      <td>0.0</td>\n",
       "      <td>0.0</td>\n",
       "      <td>0.0</td>\n",
       "      <td>...</td>\n",
       "      <td>0.000000</td>\n",
       "      <td>0.0</td>\n",
       "      <td>0.0</td>\n",
       "      <td>0.0</td>\n",
       "      <td>0.0</td>\n",
       "      <td>0.0</td>\n",
       "      <td>0.0</td>\n",
       "      <td>0.0</td>\n",
       "      <td>0.0</td>\n",
       "      <td>0.0</td>\n",
       "    </tr>\n",
       "    <tr>\n",
       "      <th>sample_000007</th>\n",
       "      <td>0.0</td>\n",
       "      <td>0.0</td>\n",
       "      <td>0.0</td>\n",
       "      <td>0.0</td>\n",
       "      <td>0.0</td>\n",
       "      <td>0.0</td>\n",
       "      <td>0.0</td>\n",
       "      <td>0.0</td>\n",
       "      <td>0.0</td>\n",
       "      <td>0.0</td>\n",
       "      <td>...</td>\n",
       "      <td>0.000000</td>\n",
       "      <td>0.0</td>\n",
       "      <td>0.0</td>\n",
       "      <td>0.0</td>\n",
       "      <td>0.0</td>\n",
       "      <td>0.0</td>\n",
       "      <td>0.0</td>\n",
       "      <td>0.0</td>\n",
       "      <td>0.0</td>\n",
       "      <td>0.0</td>\n",
       "    </tr>\n",
       "  </tbody>\n",
       "</table>\n",
       "<p>5 rows × 56000 columns</p>\n",
       "</div>"
      ],
      "text/plain": [
       "rounded m/z           1                                                    \\\n",
       "time bin      (0.0, 0.25] (0.25, 0.5] (0.5, 0.75] (0.75, 1.0] (1.0, 1.25]   \n",
       "sample id                                                                   \n",
       "sample_000001         0.0         0.0         0.0         0.0         0.0   \n",
       "sample_000002         0.0         0.0         0.0         0.0         0.0   \n",
       "sample_000004         0.0         0.0         0.0         0.0         0.0   \n",
       "sample_000005         0.0         0.0         0.0         0.0         0.0   \n",
       "sample_000007         0.0         0.0         0.0         0.0         0.0   \n",
       "\n",
       "rounded m/z                                                                \\\n",
       "time bin      (1.25, 1.5] (1.5, 1.75] (1.75, 2.0] (2.0, 2.25] (2.25, 2.5]   \n",
       "sample id                                                                   \n",
       "sample_000001         0.0         0.0         0.0         0.0         0.0   \n",
       "sample_000002         0.0         0.0         0.0         0.0         0.0   \n",
       "sample_000004         0.0         0.0         0.0         0.0         0.0   \n",
       "sample_000005         0.0         0.0         0.0         0.0         0.0   \n",
       "sample_000007         0.0         0.0         0.0         0.0         0.0   \n",
       "\n",
       "rounded m/z    ...           400                                            \\\n",
       "time bin       ... (32.5, 32.75] (32.75, 33.0] (33.0, 33.25] (33.25, 33.5]   \n",
       "sample id      ...                                                           \n",
       "sample_000001  ...      0.000000           0.0           0.0           0.0   \n",
       "sample_000002  ...      0.003206           0.0           0.0           0.0   \n",
       "sample_000004  ...      0.000000           0.0           0.0           0.0   \n",
       "sample_000005  ...      0.000000           0.0           0.0           0.0   \n",
       "sample_000007  ...      0.000000           0.0           0.0           0.0   \n",
       "\n",
       "rounded m/z                                                            \\\n",
       "time bin      (33.5, 33.75] (33.75, 34.0] (34.0, 34.25] (34.25, 34.5]   \n",
       "sample id                                                               \n",
       "sample_000001           0.0           0.0           0.0           0.0   \n",
       "sample_000002           0.0           0.0           0.0           0.0   \n",
       "sample_000004           0.0           0.0           0.0           0.0   \n",
       "sample_000005           0.0           0.0           0.0           0.0   \n",
       "sample_000007           0.0           0.0           0.0           0.0   \n",
       "\n",
       "rounded m/z                                \n",
       "time bin      (34.5, 34.75] (34.75, 35.0]  \n",
       "sample id                                  \n",
       "sample_000001           0.0           0.0  \n",
       "sample_000002           0.0           0.0  \n",
       "sample_000004           0.0           0.0  \n",
       "sample_000005           0.0           0.0  \n",
       "sample_000007           0.0           0.0  \n",
       "\n",
       "[5 rows x 56000 columns]"
      ]
     },
     "execution_count": 164,
     "metadata": {},
     "output_type": "execute_result"
    }
   ],
   "source": [
    "train_features = train_features.sort_index(ascending=True)\n",
    "train_features.head()"
   ]
  },
  {
   "cell_type": "markdown",
   "id": "5fcb4fe1",
   "metadata": {},
   "source": [
    "# Backup of main feature file (.csv and .parquet) "
   ]
  },
  {
   "cell_type": "code",
   "execution_count": 165,
   "id": "9dc159d5",
   "metadata": {},
   "outputs": [],
   "source": [
    "# Save train_features in the data_directory folder\n",
    "train_features.to_csv(os.path.join(data_directory, 'train_features.csv'), index=True)"
   ]
  },
  {
   "cell_type": "code",
   "execution_count": 166,
   "id": "605b28fe",
   "metadata": {},
   "outputs": [],
   "source": [
    "# Create a temporary copy of the original DataFrame\n",
    "temp_df = train_features.copy()\n",
    "temp_df.columns = [str(col) for col in temp_df.columns]\n",
    "# Save temp_df in the data_directory folder\n",
    "temp_df.to_parquet(os.path.join(data_directory, 'train_features.parquet'))"
   ]
  },
  {
   "cell_type": "code",
   "execution_count": 167,
   "id": "3a556570",
   "metadata": {
    "scrolled": true
   },
   "outputs": [],
   "source": [
    "# Make sure that all sample IDs in features and labels are identical\n",
    "assert train_features.index.equals(train_labels.index)"
   ]
  },
  {
   "cell_type": "markdown",
   "id": "06ec54dd",
   "metadata": {},
   "source": [
    "# Start of logistic regression"
   ]
  },
  {
   "cell_type": "code",
   "execution_count": 168,
   "id": "b9591b80",
   "metadata": {},
   "outputs": [],
   "source": [
    "# Define stratified k-fold validation\n",
    "skf = StratifiedKFold(n_splits=5, random_state=42, shuffle=True)\n",
    "\n",
    "# Define log loss\n",
    "log_loss_scorer = make_scorer(log_loss, needs_proba=True)"
   ]
  },
  {
   "cell_type": "code",
   "execution_count": 169,
   "id": "6e0d0755",
   "metadata": {},
   "outputs": [],
   "source": [
    "# Check log loss score for baseline dummy model\n",
    "def logloss_cross_val(clf, X, y):\n",
    "\n",
    "    # Generate a score for each label class\n",
    "    log_loss_cv = {}\n",
    "    for col in y.columns:\n",
    "\n",
    "        y_col = y[col]  # take one label at a time\n",
    "        log_loss_cv[col] = np.mean(\n",
    "            cross_val_score(clf, X.values, y_col, cv=skf, scoring=log_loss_scorer)\n",
    "        )\n",
    "\n",
    "    avg_log_loss = np.mean(list(log_loss_cv.values()))\n",
    "\n",
    "    return log_loss_cv, avg_log_loss"
   ]
  },
  {
   "cell_type": "code",
   "execution_count": 171,
   "id": "5b0c23c7",
   "metadata": {},
   "outputs": [],
   "source": [
    "target_cols = train_labels.columns.tolist()"
   ]
  },
  {
   "cell_type": "markdown",
   "id": "e289b467",
   "metadata": {},
   "source": [
    "# Dummy classifer gives a baseline by \"prior\" strategy which is basically just probabiliy guessing through the distribution of labels present\n",
    "# The lower the log-loss, the better the model"
   ]
  },
  {
   "cell_type": "code",
   "execution_count": 172,
   "id": "b9cf5a9a",
   "metadata": {},
   "outputs": [
    {
     "name": "stdout",
     "output_type": "stream",
     "text": [
      "Dummy model cross-validation average log-loss:\n",
      "{'BHT': 0.43216121176395517,\n",
      " 'DBEEA': 0.49696326375093314,\n",
      " 'DCM': 0.6295656668645293,\n",
      " 'MeOH': 0.6440642139448889}\n",
      "\n",
      "Aggregate log-loss\n"
     ]
    },
    {
     "data": {
      "text/plain": [
       "0.5506885890810767"
      ]
     },
     "execution_count": 172,
     "metadata": {},
     "output_type": "execute_result"
    }
   ],
   "source": [
    "# Dummy classifier\n",
    "dummy_clf = DummyClassifier(strategy=\"prior\")\n",
    "\n",
    "print(\"Dummy model cross-validation average log-loss:\")\n",
    "dummy_logloss = logloss_cross_val(dummy_clf, train_features, train_labels[target_cols])\n",
    "pprint(dummy_logloss[0])\n",
    "print(\"\\nAggregate log-loss\")\n",
    "dummy_logloss[1]"
   ]
  },
  {
   "cell_type": "markdown",
   "id": "e503d8fc",
   "metadata": {},
   "source": [
    "# Using a pre-trained logistic regression model instead"
   ]
  },
  {
   "cell_type": "code",
   "execution_count": 173,
   "id": "1de19bae",
   "metadata": {
    "scrolled": true
   },
   "outputs": [
    {
     "name": "stdout",
     "output_type": "stream",
     "text": [
      "Logistic regression model cross-validation average log-loss:\n",
      "\n",
      "{'BHT': 0.0655759937977961,\n",
      " 'DBEEA': 0.06009590942860663,\n",
      " 'DCM': 0.06841955730278344,\n",
      " 'MeOH': 0.12280827916547073}\n",
      "Aggregate log-loss\n"
     ]
    },
    {
     "data": {
      "text/plain": [
       "0.07922493492366423"
      ]
     },
     "execution_count": 173,
     "metadata": {},
     "output_type": "execute_result"
    }
   ],
   "source": [
    "# Define Lasso model\n",
    "logreg_clf = LogisticRegression(penalty=\"l1\", solver=\"liblinear\", C=2)\n",
    "print(\"Logistic regression model cross-validation average log-loss:\\n\")\n",
    "logreg_logloss = logloss_cross_val(logreg_clf, train_features, train_labels[target_cols])\n",
    "pprint(logreg_logloss[0])\n",
    "print(\"Aggregate log-loss\")\n",
    "logreg_logloss[1]"
   ]
  },
  {
   "cell_type": "markdown",
   "id": "6464eed9",
   "metadata": {},
   "source": [
    "# Modelling of logistic regression based off our data"
   ]
  },
  {
   "cell_type": "code",
   "execution_count": 174,
   "id": "a3c1658a",
   "metadata": {},
   "outputs": [],
   "source": [
    "# Train logistic regression model with l1 regularization, where C = 2\n",
    "def logreg_train(X_train, y_train):\n",
    "\n",
    "    # Initialize dict to hold fitted models\n",
    "    logreg_model_dict = {}\n",
    "\n",
    "    # Split into binary classifier for each class\n",
    "    for col in y_train.columns:\n",
    "\n",
    "        y_train_col = y_train[col]  # Train on one class at a time\n",
    "\n",
    "        # Output the trained model, bind this to a var, then use as input to prediction function\n",
    "        clf = LogisticRegression(penalty=\"l1\", solver=\"liblinear\", C=2, random_state=42)\n",
    "\n",
    "        logreg_model_dict[col] = clf.fit(X_train.values, y_train_col)  # Train\n",
    "\n",
    "    return logreg_model_dict"
   ]
  },
  {
   "cell_type": "code",
   "execution_count": 175,
   "id": "80974160",
   "metadata": {},
   "outputs": [],
   "source": [
    "fitted_logreg_dict = logreg_train(train_features, train_labels[target_cols])\n"
   ]
  },
  {
   "cell_type": "markdown",
   "id": "bf0ba73e",
   "metadata": {},
   "source": [
    "# Testing our model"
   ]
  },
  {
   "cell_type": "code",
   "execution_count": null,
   "id": "b2de76fe",
   "metadata": {},
   "outputs": [],
   "source": []
  },
  {
   "cell_type": "code",
   "execution_count": null,
   "id": "092c30da",
   "metadata": {},
   "outputs": [],
   "source": []
  },
  {
   "cell_type": "code",
   "execution_count": null,
   "id": "484a01e9",
   "metadata": {},
   "outputs": [],
   "source": []
  },
  {
   "cell_type": "code",
   "execution_count": null,
   "id": "7e72c343",
   "metadata": {},
   "outputs": [],
   "source": []
  }
 ],
 "metadata": {
  "kernelspec": {
   "display_name": "Python 3 (ipykernel)",
   "language": "python",
   "name": "python3"
  },
  "language_info": {
   "codemirror_mode": {
    "name": "ipython",
    "version": 3
   },
   "file_extension": ".py",
   "mimetype": "text/x-python",
   "name": "python",
   "nbconvert_exporter": "python",
   "pygments_lexer": "ipython3",
   "version": "3.10.9"
  }
 },
 "nbformat": 4,
 "nbformat_minor": 5
}
